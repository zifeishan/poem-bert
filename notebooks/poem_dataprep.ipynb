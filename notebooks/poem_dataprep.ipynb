{
 "cells": [
  {
   "cell_type": "code",
   "execution_count": 22,
   "metadata": {},
   "outputs": [],
   "source": [
    "import tensorflow.compat.v1 as tf\n",
    "import numpy as np\n",
    "import sys\n",
    "import os\n",
    "\n",
    "sys.path.append(\"..\")"
   ]
  },
  {
   "cell_type": "code",
   "execution_count": 19,
   "metadata": {},
   "outputs": [],
   "source": [
    "from bert import optimization\n",
    "from bert import modeling\n",
    "import glob"
   ]
  },
  {
   "cell_type": "code",
   "execution_count": 28,
   "metadata": {},
   "outputs": [
    {
     "data": {
      "text/plain": [
       "['__all__',\n",
       " '__builtins__',\n",
       " '__cached__',\n",
       " '__doc__',\n",
       " '__file__',\n",
       " '__loader__',\n",
       " '__name__',\n",
       " '__package__',\n",
       " '__spec__',\n",
       " '_glob0',\n",
       " '_glob1',\n",
       " '_glob2',\n",
       " '_iglob',\n",
       " '_ishidden',\n",
       " '_isrecursive',\n",
       " '_iterdir',\n",
       " '_rlistdir',\n",
       " 'escape',\n",
       " 'fnmatch',\n",
       " 'glob',\n",
       " 'glob0',\n",
       " 'glob1',\n",
       " 'has_magic',\n",
       " 'iglob',\n",
       " 'magic_check',\n",
       " 'magic_check_bytes',\n",
       " 'os',\n",
       " 're']"
      ]
     },
     "execution_count": 28,
     "metadata": {},
     "output_type": "execute_result"
    }
   ],
   "source": [
    "dir(glob)"
   ]
  },
  {
   "cell_type": "code",
   "execution_count": 50,
   "metadata": {},
   "outputs": [],
   "source": [
    "DATA_DIR = '/Users/zifei/fangning/chinese-poetry-corpus'\n",
    "\n",
    "import re\n",
    "p_comments = re.compile(r\"[①②③④⑤⑥⑦⑧⑨]\")\n",
    "\n",
    "def norm_content(content):\n",
    "    content = re.sub(p_comments, \"\", content)\n",
    "    return content\n",
    "\n",
    "def process_to_tsv(data_dir, output_path):\n",
    "    with open(output_path, \"w\") as fout:\n",
    "        poem_id = 0\n",
    "        for dynasty_path in glob.glob(os.path.join(DATA_DIR, \"data/*\")):\n",
    "            dynasty = os.path.basename(dynasty_path)\n",
    "            print(\"Processing dynasty\", dynasty)\n",
    "            for author_path in glob.glob(os.path.join(dynasty_path, \"poems/*\")):\n",
    "                author = os.path.basename(author_path).split(\".\")[0]\n",
    "                for line in open(author_path):\n",
    "                    parts = line.rstrip(\"\\n\").split(\"\\t\")\n",
    "                    if not len(parts) == 2:\n",
    "                        print(\"WARN: not 2 parts!\", parts)\n",
    "                        continue\n",
    "                    content = parts[1].strip()\n",
    "                    content = norm_content(content)\n",
    "                    title_with_tags = parts[0].split('\\u3000')\n",
    "                    title = title_with_tags[0].strip()\n",
    "                    other_tags = [s.strip() for s in title_with_tags[1:] if s.strip()]\n",
    "                    # Debug\n",
    "                    # print(\"D:\",dynasty, \"A:\",author, \"T:\", title, \"tt:\", other_tags, 'C:', content)\n",
    "                    # break\n",
    "                    if not (title and content and author):\n",
    "                        continue\n",
    "                        \n",
    "                    poem_id += 1\n",
    "                    print(\"\\t\".join([str(poem_id), dynasty, author, title, \";\".join(other_tags), content]),\n",
    "                          file=fout)\n",
    "\n"
   ]
  },
  {
   "cell_type": "code",
   "execution_count": 51,
   "metadata": {},
   "outputs": [
    {
     "name": "stdout",
     "output_type": "stream",
     "text": [
      "Processing dynasty 当代\n",
      "Processing dynasty order.tsv\n",
      "Processing dynasty 明\n",
      "Processing dynasty 汉\n",
      "Processing dynasty 南北朝\n",
      "Processing dynasty 元\n",
      "Processing dynasty 辽\n",
      "Processing dynasty 唐\n",
      "Processing dynasty 宋\n",
      "Processing dynasty dynasty.tsv\n",
      "Processing dynasty 隋\n",
      "Processing dynasty 近现代\n",
      "WARN: not 2 parts! ['林君献堂率（编者按：「率」，底本误作「牵」，今改。']\n",
      "WARN: not 2 parts! ['次林十暮春瑞轩养病即事韵']\n",
      "WARN: not 2 parts! ['补祝叔臧先生四十双寿']\n",
      "Processing dynasty 秦\n",
      "Processing dynasty 先秦\n",
      "Processing dynasty 魏晋\n",
      "Processing dynasty 金\n",
      "Processing dynasty 清\n",
      "WARN: not 2 parts! ['重赋                                                        ']\n",
      "WARN: not 2 parts! ['林君献堂率（编者按：「率」，底本误作「牵」，今改。']\n",
      "WARN: not 2 parts! ['次林十暮春瑞轩养病即事韵']\n",
      "WARN: not 2 parts! ['补祝叔臧先生四十双寿']\n",
      "WARN: not 2 parts! ['偕施云舫许蕴伯游竹溪（编者按：「溪」，底本、《台湾关文献集零》均误作「西」，据《台湾诗乘》改。']\n",
      "WARN: not 2 parts! ['壬辰（18〖编者按：《台湾关系文献集零》未录此诗。']\n",
      "WARN: not 2 parts! ['台南盐政归台道督办而积弊甚深皆由委员少廉洁者殊可慨也（此诗又载林文龙《台湾诗录拾遗》。']\n",
      "WARN: not 2 parts! ['）']\n",
      "WARN: not 2 parts! ['和郭云裳（编者按：「裳」，《台南文化》误作「棠」，据《台湾文艺丛志》、《台湾诗钞》改。']\n"
     ]
    }
   ],
   "source": [
    "process_to_tsv(DATA_DIR, \"./poems_all.tsv\")"
   ]
  },
  {
   "cell_type": "code",
   "execution_count": null,
   "metadata": {},
   "outputs": [],
   "source": [
    "# To BERT-tokenized sentences?"
   ]
  }
 ],
 "metadata": {
  "kernelspec": {
   "display_name": "Python 3",
   "language": "python",
   "name": "python3"
  },
  "language_info": {
   "codemirror_mode": {
    "name": "ipython",
    "version": 3
   },
   "file_extension": ".py",
   "mimetype": "text/x-python",
   "name": "python",
   "nbconvert_exporter": "python",
   "pygments_lexer": "ipython3",
   "version": "3.6.7"
  }
 },
 "nbformat": 4,
 "nbformat_minor": 2
}
